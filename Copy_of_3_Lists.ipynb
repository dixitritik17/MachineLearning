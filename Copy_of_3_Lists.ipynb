{
  "nbformat": 4,
  "nbformat_minor": 0,
  "metadata": {
    "kernelspec": {
      "display_name": "Python 3",
      "language": "python",
      "name": "python3"
    },
    "language_info": {
      "codemirror_mode": {
        "name": "ipython",
        "version": 3
      },
      "file_extension": ".py",
      "mimetype": "text/x-python",
      "name": "python",
      "nbconvert_exporter": "python",
      "pygments_lexer": "ipython3",
      "version": "3.6.5"
    },
    "colab": {
      "name": "Copy of 3 Lists.ipynb",
      "provenance": [],
      "collapsed_sections": [],
      "toc_visible": true,
      "include_colab_link": true
    }
  },
  "cells": [
    {
      "cell_type": "markdown",
      "metadata": {
        "id": "view-in-github",
        "colab_type": "text"
      },
      "source": [
        "<a href=\"https://colab.research.google.com/github/dixitritik17/MachineLearning/blob/master/Copy_of_3_Lists.ipynb\" target=\"_parent\"><img src=\"https://colab.research.google.com/assets/colab-badge.svg\" alt=\"Open In Colab\"/></a>"
      ]
    },
    {
      "cell_type": "markdown",
      "metadata": {
        "id": "CE9kazKvuEql",
        "colab_type": "text"
      },
      "source": [
        "# Lists"
      ]
    },
    {
      "cell_type": "markdown",
      "metadata": {
        "id": "mCoueiuRuEqn",
        "colab_type": "text"
      },
      "source": [
        "## Lists\n",
        "- A list is a collection of items, that is stored in a variable. \n",
        "- The items should be related in some way, but there are no restrictions on what can be stored in a list."
      ]
    },
    {
      "cell_type": "markdown",
      "metadata": {
        "id": "WMc00i-BuEqo",
        "colab_type": "text"
      },
      "source": [
        "### Syntax\n",
        "list-name = [list of comma seperated values]"
      ]
    },
    {
      "cell_type": "markdown",
      "metadata": {
        "id": "UVTNupfFuEqq",
        "colab_type": "text"
      },
      "source": [
        "### Slicing with list\n",
        "\n",
        "index start with 0\n",
        "\n",
        " listname[index_number]\n",
        "\n",
        " listname[start_index:end_index]\n",
        "\n",
        " listname[:end_index]\n",
        "\n",
        " listname[start_index:]\n",
        "\n",
        "\n",
        "negative index: \n",
        " listname[:-index] \n",
        "\n",
        "\n",
        "### list methods\n",
        "- append()\n",
        "- len()\n",
        "- insert(index,value)\n",
        "- sort()\n",
        "- reverse()\n",
        "- pop(), pop(index)\n",
        "- min(), max(), sum()\n",
        "\n",
        "\n",
        "We can change the contents of the lists after its creation\n",
        "\n",
        "listname[index]=newvalue"
      ]
    },
    {
      "cell_type": "markdown",
      "metadata": {
        "id": "zMEfQRFauEqr",
        "colab_type": "text"
      },
      "source": [
        "#### Task 1: Run below code and try to make some changes to the code"
      ]
    },
    {
      "cell_type": "code",
      "metadata": {
        "id": "-un7NuvzuEqs",
        "colab_type": "code",
        "outputId": "9f3556e9-6573-4775-d368-e92bac20b4ee",
        "colab": {
          "base_uri": "https://localhost:8080/",
          "height": 67
        }
      },
      "source": [
        "# list creation\n",
        "countries = ['India', 'Australia', 'USA']\n",
        "\n",
        "# print whole list\n",
        "print(countries)\n",
        "\n",
        "# Accessing list elements\n",
        "print(\"Value at 0 index: \",countries[0])\n",
        "\n",
        "# assignning new value to index\n",
        "countries[0]='Japan'\n",
        "\n",
        "print(\"New value at index 0: \",countries[0])"
      ],
      "execution_count": 1,
      "outputs": [
        {
          "output_type": "stream",
          "text": [
            "['India', 'Australia', 'USA']\n",
            "Value at 0 index:  India\n",
            "New value at index 0:  Japan\n"
          ],
          "name": "stdout"
        }
      ]
    },
    {
      "cell_type": "code",
      "metadata": {
        "id": "MYK7Xplb-qeP",
        "colab_type": "code",
        "outputId": "50c6cb04-9bc4-4174-f4be-74dcda27f1e7",
        "colab": {
          "base_uri": "https://localhost:8080/",
          "height": 34
        }
      },
      "source": [
        "countries"
      ],
      "execution_count": 2,
      "outputs": [
        {
          "output_type": "execute_result",
          "data": {
            "text/plain": [
              "['Japan', 'Australia', 'USA']"
            ]
          },
          "metadata": {
            "tags": []
          },
          "execution_count": 2
        }
      ]
    },
    {
      "cell_type": "markdown",
      "metadata": {
        "id": "dilg5WVYuEqx",
        "colab_type": "text"
      },
      "source": [
        "### Iterating lists"
      ]
    },
    {
      "cell_type": "markdown",
      "metadata": {
        "id": "81ryE-rZuEqz",
        "colab_type": "text"
      },
      "source": [
        "#### Task 2: Run below code and try to make some changes to the code"
      ]
    },
    {
      "cell_type": "code",
      "metadata": {
        "scrolled": true,
        "id": "E4fLjOaZuEq0",
        "colab_type": "code",
        "outputId": "98771bcd-c7a9-4755-93a2-1695c9742bb1",
        "colab": {
          "base_uri": "https://localhost:8080/",
          "height": 101
        }
      },
      "source": [
        "\n",
        "hybridlists=['My name is ritik',\n",
        "             'I am in',\n",
        "             6,\n",
        "             'Semester']\n",
        "\n",
        "print(hybridlists)\n",
        "\n",
        "# we can access the elements of list using loops\n",
        "\n",
        "for item in hybridlists:\n",
        "    print(item)"
      ],
      "execution_count": 8,
      "outputs": [
        {
          "output_type": "stream",
          "text": [
            "['My name is ritik', 'I am in', 6, 'Semester']\n",
            "My name is ritik\n",
            "I am in\n",
            "6\n",
            "Semester\n"
          ],
          "name": "stdout"
        }
      ]
    },
    {
      "cell_type": "markdown",
      "metadata": {
        "id": "AfzGa6PXuEq4",
        "colab_type": "text"
      },
      "source": [
        "#### Task 3: Run below code and try to make some changes to the code"
      ]
    },
    {
      "cell_type": "code",
      "metadata": {
        "scrolled": false,
        "id": "uJy7ziaduEq5",
        "colab_type": "code",
        "outputId": "2ecfca0d-6bb9-4353-ea69-0a4626efee58",
        "colab": {
          "base_uri": "https://localhost:8080/",
          "height": 101
        }
      },
      "source": [
        "# print the index number with value\n",
        "\n",
        "countries = ['India', 'Australia', 'USA']\n",
        "\n",
        "for index, country in enumerate(countries):\n",
        "    place = str(index)\n",
        "    print(\"Index: \" + place + \", Value: \" + country.title())\n",
        "    \n",
        "# find index of\n",
        "index = countries.index('India') \n",
        "print(\"\\n Index of India is: \",index)"
      ],
      "execution_count": 9,
      "outputs": [
        {
          "output_type": "stream",
          "text": [
            "Index: 0, Value: India\n",
            "Index: 1, Value: Australia\n",
            "Index: 2, Value: Usa\n",
            "\n",
            " Index of India is:  0\n"
          ],
          "name": "stdout"
        }
      ]
    },
    {
      "cell_type": "markdown",
      "metadata": {
        "id": "MC3q0utGuEq9",
        "colab_type": "text"
      },
      "source": [
        "#### Task 4: Run below code and try to make some changes to the code"
      ]
    },
    {
      "cell_type": "code",
      "metadata": {
        "id": "1ydARtKLuEq-",
        "colab_type": "code",
        "outputId": "24bf5f0c-9a05-41e2-9e83-ddbcf6093d4f",
        "colab": {
          "base_uri": "https://localhost:8080/",
          "height": 34
        }
      },
      "source": [
        "# Remove the last country from the list by index or by value\n",
        "del countries[0]\n",
        "\n",
        "print(countries)"
      ],
      "execution_count": 10,
      "outputs": [
        {
          "output_type": "stream",
          "text": [
            "['Australia', 'USA']\n"
          ],
          "name": "stdout"
        }
      ]
    },
    {
      "cell_type": "markdown",
      "metadata": {
        "id": "CqZJZ-ZLuErC",
        "colab_type": "text"
      },
      "source": [
        "### List comprehension (with for loop)"
      ]
    },
    {
      "cell_type": "markdown",
      "metadata": {
        "id": "BRObLUlIuErD",
        "colab_type": "text"
      },
      "source": [
        "#### Task 5: Run below code and try to make some changes to the code"
      ]
    },
    {
      "cell_type": "code",
      "metadata": {
        "id": "-NskuVdeuErE",
        "colab_type": "code",
        "outputId": "a8beafd6-6aa5-4a35-8f29-5b7d0d4b48f4",
        "colab": {
          "base_uri": "https://localhost:8080/",
          "height": 34
        }
      },
      "source": [
        "# without comprehension\n",
        "\n",
        "cubes = []\n",
        "for x in [1, 2, 3, 4, 5]:\n",
        "    cubes.append(x ** 3) \n",
        "    \n",
        "print(cubes)"
      ],
      "execution_count": 11,
      "outputs": [
        {
          "output_type": "stream",
          "text": [
            "[1, 8, 27, 64, 125]\n"
          ],
          "name": "stdout"
        }
      ]
    },
    {
      "cell_type": "code",
      "metadata": {
        "id": "0tnCvfgFuErJ",
        "colab_type": "code",
        "outputId": "209fb7ac-9601-44ab-b1dc-4a4ea0fd3140",
        "colab": {
          "base_uri": "https://localhost:8080/",
          "height": 34
        }
      },
      "source": [
        "# with comprehension\n",
        "  \n",
        "cubes= [x**3 for x in [1, 2, 3, 4, 5]]\n",
        "print(cubes)"
      ],
      "execution_count": 0,
      "outputs": [
        {
          "output_type": "stream",
          "text": [
            "[1, 8, 27, 64, 125]\n"
          ],
          "name": "stdout"
        }
      ]
    },
    {
      "cell_type": "code",
      "metadata": {
        "id": "rpw76uDVuErO",
        "colab_type": "code",
        "outputId": "47e89f3c-1440-452e-aa10-07943b9b98aa",
        "colab": {
          "base_uri": "https://localhost:8080/",
          "height": 34
        }
      },
      "source": [
        "numbers=[1,2,3,4,5,6,7,8,9,10]\n",
        "list=[x for x in numbers]\n",
        "list"
      ],
      "execution_count": 0,
      "outputs": [
        {
          "output_type": "execute_result",
          "data": {
            "text/plain": [
              "[1, 2, 3, 4, 5, 6, 7, 8, 9, 10]"
            ]
          },
          "metadata": {
            "tags": []
          },
          "execution_count": 9
        }
      ]
    },
    {
      "cell_type": "markdown",
      "metadata": {
        "id": "ZAqkJUWMuErU",
        "colab_type": "text"
      },
      "source": [
        "#### Program 1: Write a python program which does the following\n",
        "- Make a list that includes four job types , such as 'programmer', 'truck driver' and so on\n",
        "- Use the *list.index()* function to find the index of one job type in your list.\n",
        "- Use the *in* function to show that this job type is in your list.\n",
        "- Use the *append()* function to add a new job type to your list.\n",
        "- Use the *insert()* function to add a new job type \"Python Programmer\" at the beginning of the list.\n",
        "- Use a loop to show all the job types in your list."
      ]
    },
    {
      "cell_type": "code",
      "metadata": {
        "id": "FCvBiOY0GM9O",
        "colab_type": "code",
        "outputId": "d431ea8d-c7b2-4bb1-ec20-49041389fd86",
        "colab": {
          "base_uri": "https://localhost:8080/",
          "height": 252
        }
      },
      "source": [
        "#list consisting four jobs\n",
        "job_type=['Full-Stack Developer','Data Scientist','Data Analyst','Front-end Developer']\n",
        "print(job_type)\n",
        "\n",
        "#finding index\n",
        "print(job_type.index('Data Scientist'))\n",
        "\n",
        "#use of in function\n",
        "for job in job_type:\n",
        "  print(job)\n",
        "\n",
        "#append method\n",
        "job_type.append(\"Coder\")\n",
        "print(job_type)\n",
        "\n",
        "job_type.insert(0,\"Python Programmer\")\n",
        "print(job_type)\n",
        "\n",
        "for i in range(len(job_type)):\n",
        "  print(job_type[i])\n"
      ],
      "execution_count": 15,
      "outputs": [
        {
          "output_type": "stream",
          "text": [
            "['Full-Stack Developer', 'Data Scientist', 'Data Analyst', 'Front-end Developer']\n",
            "1\n",
            "Full-Stack Developer\n",
            "Data Scientist\n",
            "Data Analyst\n",
            "Front-end Developer\n",
            "['Full-Stack Developer', 'Data Scientist', 'Data Analyst', 'Front-end Developer', 'Coder']\n",
            "['Python Programmer', 'Full-Stack Developer', 'Data Scientist', 'Data Analyst', 'Front-end Developer', 'Coder']\n",
            "Python Programmer\n",
            "Full-Stack Developer\n",
            "Data Scientist\n",
            "Data Analyst\n",
            "Front-end Developer\n",
            "Coder\n"
          ],
          "name": "stdout"
        }
      ]
    },
    {
      "cell_type": "markdown",
      "metadata": {
        "id": "-BfTr0PE10fb",
        "colab_type": "text"
      },
      "source": [
        ""
      ]
    },
    {
      "cell_type": "code",
      "metadata": {
        "id": "RZPxGiH0uErW",
        "colab_type": "code",
        "colab": {}
      },
      "source": [
        "\n"
      ],
      "execution_count": 0,
      "outputs": []
    },
    {
      "cell_type": "markdown",
      "metadata": {
        "id": "s9_VCnkJuEra",
        "colab_type": "text"
      },
      "source": [
        "#### Problem 2: Write a python program for following\n",
        "\n",
        "- Make a list that includes the names of five famous people.\n",
        "- Remove each person from the list, one at a time, using the four methods given below:\n",
        "    - Del item from the list by del: del listname[index]\n",
        "    - Remove the item from the list by remove method: listname.remove('itemname')\n",
        "    - Using pop() method, It removes the last item from the list: listname.pop() \n",
        "    - Pop any item from the list by index: listname: listname.pop(index)\n",
        "- Print out a message that there are no famous people left in your list, and print your list to prove that it is empty."
      ]
    },
    {
      "cell_type": "code",
      "metadata": {
        "id": "3Cf_mbehuErb",
        "colab_type": "code",
        "colab": {
          "base_uri": "https://localhost:8080/",
          "height": 101
        },
        "outputId": "bb389e45-2c4d-44af-efc6-13ccd2cd3357"
      },
      "source": [
        "li=[\"sachin\",\"hrithik\",\"messi\",\"dhoni\",\"virat\"]\n",
        "print(li)\n",
        "\n",
        "del li[1]\n",
        "print(li)\n",
        "\n",
        "li.remove(\"dhoni\")\n",
        "print(li)\n",
        "\n",
        "li.pop()\n",
        "print(li)\n",
        "\n",
        "li.pop(0)\n",
        "print(li)\n"
      ],
      "execution_count": 20,
      "outputs": [
        {
          "output_type": "stream",
          "text": [
            "['sachin', 'hrithik', 'messi', 'dhoni', 'virat']\n",
            "['sachin', 'messi', 'dhoni', 'virat']\n",
            "['sachin', 'messi', 'virat']\n",
            "['sachin', 'messi']\n",
            "['messi']\n"
          ],
          "name": "stdout"
        }
      ]
    },
    {
      "cell_type": "markdown",
      "metadata": {
        "id": "GSsWG_cGuErf",
        "colab_type": "text"
      },
      "source": [
        "#### Program 3: Write a python program which does the following\n",
        "\n",
        "- Store the first ten letters of the alphabet in a list.\n",
        "- Use a slice to print out the first three letters of the alphabet.\n",
        "- Use a slice to print out any three letters from the middle of your list.\n",
        "- Use a slice to print out the letters from any point in the middle of your list, to the end.\n"
      ]
    },
    {
      "cell_type": "code",
      "metadata": {
        "id": "tmrnWq_YuErg",
        "colab_type": "code",
        "colab": {
          "base_uri": "https://localhost:8080/",
          "height": 67
        },
        "outputId": "7d222efc-25c5-4707-d647-d19ba68214b8"
      },
      "source": [
        "li=['a','b','c','d','e','f','g','h','i','j']\n",
        "print(li[:3])\n",
        "print(li[3:6])\n",
        "print(li[4:])\n"
      ],
      "execution_count": 24,
      "outputs": [
        {
          "output_type": "stream",
          "text": [
            "['a', 'b', 'c']\n",
            "['d', 'e', 'f']\n",
            "['e', 'f', 'g', 'h', 'i', 'j']\n"
          ],
          "name": "stdout"
        }
      ]
    },
    {
      "cell_type": "markdown",
      "metadata": {
        "id": "NWe_XtTXuErk",
        "colab_type": "text"
      },
      "source": [
        "#### Program 4: Write a python program for following\n",
        "\n",
        "- Your goal in this exercise is to prove that copying a list protects the original list.\n",
        "- Make a list with three people's names in it.\n",
        "- Use a slice to make a copy of the entire list.\n",
        "- Add at least two new names to the new copy of the list.\n",
        "- Make a loop that prints out all of the names in the original list, along with a message that this is the original list.\n",
        "- Make a loop that prints out all of the names in the copied list, along with a message that this is the copied list."
      ]
    },
    {
      "cell_type": "code",
      "metadata": {
        "id": "mz_cmNDjuErm",
        "colab_type": "code",
        "colab": {
          "base_uri": "https://localhost:8080/",
          "height": 185
        },
        "outputId": "93319e71-f399-48f4-9833-94c97abd58d9"
      },
      "source": [
        "l1=[\"ritik\",\"karan\",\"aman\"]\n",
        "l2=l1[:]\n",
        "l2.append(\"puja\")\n",
        "l2.append(\"mohan\")\n",
        "print(\"original list!!\")\n",
        "for i in range(len(l1)):\n",
        "  print(l1[i])\n",
        "print(\"copied list!!\")\n",
        "for j in range(len(l2)):\n",
        "  print(l2[j])"
      ],
      "execution_count": 47,
      "outputs": [
        {
          "output_type": "stream",
          "text": [
            "original list!!\n",
            "ritik\n",
            "karan\n",
            "aman\n",
            "copied list!!\n",
            "ritik\n",
            "karan\n",
            "aman\n",
            "puja\n",
            "mohan\n"
          ],
          "name": "stdout"
        }
      ]
    },
    {
      "cell_type": "markdown",
      "metadata": {
        "id": "whk0o2dAuErs",
        "colab_type": "text"
      },
      "source": [
        "#### Program 5: Write a python program for following\n",
        "\n",
        "- Create a list to store the marks of top 15 students obtained by the students in Python Quiz held on 21/08/2018. Maximum marks=15\n",
        "- Print the maximum marks obtained by the student from the list.\n",
        "- Print the minimum marks obtained by the student.\n",
        "- Find the sum of all the marks.\n",
        "- Find the average of the marks.\n",
        "- Reverse the original list and display using for loop.\n"
      ]
    },
    {
      "cell_type": "code",
      "metadata": {
        "id": "xpZzhZcSuEru",
        "colab_type": "code",
        "colab": {
          "base_uri": "https://localhost:8080/",
          "height": 336
        },
        "outputId": "d4235db1-161d-402d-c556-c12d87bbc7f9"
      },
      "source": [
        "marks=[5,7,10,14,15,12,3,1,6,11,13,4,3,14,5]\n",
        "print(\"Maximum marks :\",max(marks))\n",
        "print(\"Minimum marks :\",min(marks))\n",
        "print(\"Sum : \",sum(marks))\n",
        "print(\"average :\",sum(marks)/len(marks))\n",
        "marks=marks[::-1]\n",
        "for i in range(len(marks)):\n",
        "  print(marks[i])\n",
        "\n"
      ],
      "execution_count": 40,
      "outputs": [
        {
          "output_type": "stream",
          "text": [
            "Maximum marks : 15\n",
            "Minimum marks : 1\n",
            "Sum :  123\n",
            "average : 8.2\n",
            "5\n",
            "14\n",
            "3\n",
            "4\n",
            "13\n",
            "11\n",
            "6\n",
            "1\n",
            "3\n",
            "12\n",
            "15\n",
            "14\n",
            "10\n",
            "7\n",
            "5\n"
          ],
          "name": "stdout"
        }
      ]
    },
    {
      "cell_type": "markdown",
      "metadata": {
        "id": "frM5O8tHuEry",
        "colab_type": "text"
      },
      "source": [
        "#### Program 6: Write a program in Python to create a list which contains n integers entered by the user and delete all odd numbers from the list. Example: If initial contents of the list is=[1,2,3,4,5,6,7,8,9,10], the output would be=[2,4,6,8,10]."
      ]
    },
    {
      "cell_type": "code",
      "metadata": {
        "id": "alv_kdUouErz",
        "colab_type": "code",
        "colab": {
          "base_uri": "https://localhost:8080/",
          "height": 218
        },
        "outputId": "43d133e6-e918-4877-d437-76934023524c"
      },
      "source": [
        "# write your code after this line\n",
        "n=int(input(\"enter the no of ele in list :\"))\n",
        "li=[]\n",
        "for i in range(0,n):\n",
        "  m=int(input())\n",
        "  li.append(m)\n",
        "for num in li:\n",
        "  if (num%2!=0):\n",
        "    li.remove(num)\n",
        "print(li)"
      ],
      "execution_count": 62,
      "outputs": [
        {
          "output_type": "stream",
          "text": [
            "enter the no of ele in list :10\n",
            "1\n",
            "2\n",
            "3\n",
            "4\n",
            "5\n",
            "6\n",
            "7\n",
            "8\n",
            "9\n",
            "10\n",
            "[2, 4, 6, 8, 10]\n"
          ],
          "name": "stdout"
        }
      ]
    },
    {
      "cell_type": "markdown",
      "metadata": {
        "id": "-eh87vCguEr5",
        "colab_type": "text"
      },
      "source": [
        "## Optional Questions"
      ]
    },
    {
      "cell_type": "markdown",
      "metadata": {
        "id": "JDKd4_PEuEr6",
        "colab_type": "text"
      },
      "source": [
        "#### Program 7: Write a python program for following.\n",
        "- Create an initial empty list named \"countries\" \n",
        "- Read the names of n countries from the user and add them to country list:\n",
        "- Use for loop to display all the names of the countries from the list and add \"is Great\" after the country name if it is \"India\""
      ]
    },
    {
      "cell_type": "code",
      "metadata": {
        "id": "nEMwkoKmuEr7",
        "colab_type": "code",
        "colab": {
          "base_uri": "https://localhost:8080/",
          "height": 185
        },
        "outputId": "bd7049c4-e529-4c86-be90-ad24c9031a1b"
      },
      "source": [
        "# write code after this line\n",
        "countries=[]\n",
        "n=int(input(\"How many coubtries will you add?? \"))\n",
        "for i in range(0,n):\n",
        "  m=input()\n",
        "  countries.append(m)\n",
        "print()\n",
        "for name in countries:\n",
        "  if (name==\"India\" or name==\"india\"):\n",
        "    print(name,\"is great\")\n",
        "  else:\n",
        "    print(name)\n"
      ],
      "execution_count": 68,
      "outputs": [
        {
          "output_type": "stream",
          "text": [
            "How many coubtries will you add?? 4\n",
            "USA\n",
            "Germany\n",
            "India\n",
            "China\n",
            "\n",
            "USA\n",
            "Germany\n",
            "India is great\n",
            "China\n"
          ],
          "name": "stdout"
        }
      ]
    },
    {
      "cell_type": "markdown",
      "metadata": {
        "id": "bHtQiQ55uEr_",
        "colab_type": "text"
      },
      "source": [
        "### Program 8: Write a Python program to find the list in a list of lists whose sum of elements is the highest.\n",
        "Sample lists: [[1,2,3], [4,5,6], [10,11,12], [7,8,9]]\n",
        "Expected Output: [10, 11, 12]"
      ]
    },
    {
      "cell_type": "code",
      "metadata": {
        "id": "Kph_EFQ9uEsB",
        "colab_type": "code",
        "colab": {
          "base_uri": "https://localhost:8080/",
          "height": 34
        },
        "outputId": "0e00fdf0-67e8-428d-f8d4-351e4fccf908"
      },
      "source": [
        "li=[[1,2,3], [4,5,6], [10,11,12], [7,8,9]]\n",
        "print(max(li))"
      ],
      "execution_count": 72,
      "outputs": [
        {
          "output_type": "stream",
          "text": [
            "[10, 11, 12]\n"
          ],
          "name": "stdout"
        }
      ]
    },
    {
      "cell_type": "code",
      "metadata": {
        "id": "T9WAQ0jEuEsK",
        "colab_type": "code",
        "colab": {}
      },
      "source": [
        ""
      ],
      "execution_count": 0,
      "outputs": []
    }
  ]
}