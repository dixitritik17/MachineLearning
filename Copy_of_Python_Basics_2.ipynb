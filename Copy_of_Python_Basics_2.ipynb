{
  "nbformat": 4,
  "nbformat_minor": 0,
  "metadata": {
    "kernelspec": {
      "name": "python3",
      "display_name": "Python 3"
    },
    "language_info": {
      "mimetype": "text/x-python",
      "nbconvert_exporter": "python",
      "name": "python",
      "pygments_lexer": "ipython3",
      "version": "3.5.4",
      "file_extension": ".py",
      "codemirror_mode": {
        "version": 3,
        "name": "ipython"
      }
    },
    "colab": {
      "name": "Copy of Python_Basics_2.ipynb",
      "provenance": [],
      "collapsed_sections": [],
      "toc_visible": true,
      "include_colab_link": true
    },
    "accelerator": "GPU"
  },
  "cells": [
    {
      "cell_type": "markdown",
      "metadata": {
        "id": "view-in-github",
        "colab_type": "text"
      },
      "source": [
        "<a href=\"https://colab.research.google.com/github/dixitritik17/MachineLearning/blob/master/Copy_of_Python_Basics_2.ipynb\" target=\"_parent\"><img src=\"https://colab.research.google.com/assets/colab-badge.svg\" alt=\"Open In Colab\"/></a>"
      ]
    },
    {
      "cell_type": "markdown",
      "metadata": {
        "id": "ek4PGqxdG5sk",
        "colab_type": "text"
      },
      "source": [
        "### print() function"
      ]
    },
    {
      "cell_type": "code",
      "metadata": {
        "id": "uh1QIwTYH10s",
        "colab_type": "code",
        "colab": {}
      },
      "source": [
        ""
      ],
      "execution_count": 0,
      "outputs": []
    },
    {
      "cell_type": "code",
      "metadata": {
        "trusted": true,
        "id": "opEi0UOgG5sp",
        "colab_type": "code",
        "outputId": "cf4ab6d9-26d4-43ad-dfc8-ffb2fd8ec1f8",
        "colab": {
          "base_uri": "https://localhost:8080/",
          "height": 34
        }
      },
      "source": [
        "# First Program\n",
        "print(\"acropolis\")"
      ],
      "execution_count": 1,
      "outputs": [
        {
          "output_type": "stream",
          "text": [
            "acropolis\n"
          ],
          "name": "stdout"
        }
      ]
    },
    {
      "cell_type": "markdown",
      "metadata": {
        "id": "3LOt0pHO_GkC",
        "colab_type": "text"
      },
      "source": [
        ""
      ]
    },
    {
      "cell_type": "code",
      "metadata": {
        "id": "uSMWmtXTsqH2",
        "colab_type": "code",
        "colab": {}
      },
      "source": [
        ""
      ],
      "execution_count": 0,
      "outputs": []
    },
    {
      "cell_type": "markdown",
      "metadata": {
        "id": "PtDg6KhQG5sn",
        "colab_type": "text"
      },
      "source": [
        "### Comments"
      ]
    },
    {
      "cell_type": "markdown",
      "metadata": {
        "id": "-PwiE7I2G5sv",
        "colab_type": "text"
      },
      "source": [
        "### Variables"
      ]
    },
    {
      "cell_type": "code",
      "metadata": {
        "trusted": false,
        "id": "4h_N96TEG5sx",
        "colab_type": "code",
        "outputId": "bb05d69b-f096-4a32-90c4-b1c5f497efd2",
        "colab": {
          "base_uri": "https://localhost:8080/",
          "height": 34
        }
      },
      "source": [
        "# In Python there is no need to mention the data type\n",
        "\n",
        "var1 = 20      # An integer assignment\n",
        "var2 = 4.123   # A floating point\n",
        "var3 = \"India\" # A string\n",
        "\n",
        "print(var1,' ',var2,' ',var3)"
      ],
      "execution_count": 2,
      "outputs": [
        {
          "output_type": "stream",
          "text": [
            "20   4.123   India\n"
          ],
          "name": "stdout"
        }
      ]
    },
    {
      "cell_type": "code",
      "metadata": {
        "id": "9BuTFGIHsl1s",
        "colab_type": "code",
        "colab": {}
      },
      "source": [
        ""
      ],
      "execution_count": 0,
      "outputs": []
    },
    {
      "cell_type": "markdown",
      "metadata": {
        "id": "OJjSBDPUG5s1",
        "colab_type": "text"
      },
      "source": [
        "### Assignment"
      ]
    },
    {
      "cell_type": "code",
      "metadata": {
        "scrolled": true,
        "trusted": false,
        "id": "D_J2d-iLG5s3",
        "colab_type": "code",
        "outputId": "5f3629c8-827e-4011-a7ac-ea56dee4fc8c",
        "colab": {
          "base_uri": "https://localhost:8080/",
          "height": 50
        }
      },
      "source": [
        "# general syntax\n",
        "#variable-name=value\n",
        "\n",
        "# Assigning same value to multiple variables\n",
        "\n",
        "var1 = var2 = var3 = 1\n",
        "print(var1,' ',var2,' ',var3)\n",
        "\n",
        "# Assigning Different values to variable in a single expression\n",
        "\n",
        "var1, var2, var3 = 1, 2.5, \"rupal\"\n",
        "print(var1,' ',var2,' ',var3)\n",
        "\n",
        "# Note: commas can be used for multi-assignments"
      ],
      "execution_count": 3,
      "outputs": [
        {
          "output_type": "stream",
          "text": [
            "1   1   1\n",
            "1   2.5   rupal\n"
          ],
          "name": "stdout"
        }
      ]
    },
    {
      "cell_type": "code",
      "metadata": {
        "id": "Gaq394ter0DP",
        "colab_type": "code",
        "colab": {}
      },
      "source": [
        ""
      ],
      "execution_count": 0,
      "outputs": []
    },
    {
      "cell_type": "markdown",
      "metadata": {
        "id": "xDs1JHtIG5s8",
        "colab_type": "text"
      },
      "source": [
        "### Taking input"
      ]
    },
    {
      "cell_type": "code",
      "metadata": {
        "scrolled": true,
        "trusted": true,
        "id": "56pGA0vmG5s9",
        "colab_type": "code",
        "outputId": "467796aa-6818-4800-9300-498c9bdfc788",
        "colab": {
          "base_uri": "https://localhost:8080/",
          "height": 67
        }
      },
      "source": [
        "firstname = input(\"Enter your first name: \")\n",
        "lastname = input(\"Enter your second name: \")\n",
        "semester = input(\"Enter your semester: \")"
      ],
      "execution_count": 4,
      "outputs": [
        {
          "output_type": "stream",
          "text": [
            "Enter your first name: ritik\n",
            "Enter your second name: dixit\n",
            "Enter your semester: 6\n"
          ],
          "name": "stdout"
        }
      ]
    },
    {
      "cell_type": "markdown",
      "metadata": {
        "id": "mj-0jPpUr4a8",
        "colab_type": "text"
      },
      "source": [
        "\n"
      ]
    },
    {
      "cell_type": "code",
      "metadata": {
        "trusted": false,
        "id": "U3RV2XeRG5tD",
        "colab_type": "code",
        "outputId": "ba96dad7-704d-4a1c-926f-787236f5cf6f",
        "colab": {
          "base_uri": "https://localhost:8080/",
          "height": 50
        }
      },
      "source": [
        "# run below code\n",
        "age = input(\"Enter your age: \")\n",
        "age = int(age)+5\n",
        "print(age)"
      ],
      "execution_count": 5,
      "outputs": [
        {
          "output_type": "stream",
          "text": [
            "Enter your age: 19\n",
            "24\n"
          ],
          "name": "stdout"
        }
      ]
    },
    {
      "cell_type": "markdown",
      "metadata": {
        "id": "MpWzqas4G5tH",
        "colab_type": "text"
      },
      "source": [
        "### Write a program in Python for data type conversion from: \n",
        "- int to string\n",
        "- int to float\n",
        "- string to int\n",
        "- string to float\n",
        "- float to int\n",
        "- float to string"
      ]
    },
    {
      "cell_type": "code",
      "metadata": {
        "trusted": false,
        "id": "EohYaD0jG5tJ",
        "colab_type": "code",
        "outputId": "3654d238-dab4-49ba-f5d4-18be63cc80b6",
        "colab": {
          "base_uri": "https://localhost:8080/",
          "height": 118
        }
      },
      "source": [
        "a=10\n",
        "print(str(a))\n",
        "print(float(a))\n",
        "\n",
        "b='20'\n",
        "print(int(b))\n",
        "print(float(b))\n",
        "\n",
        "c=23.56\n",
        "print(int(c))\n",
        "print(str(c))"
      ],
      "execution_count": 6,
      "outputs": [
        {
          "output_type": "stream",
          "text": [
            "10\n",
            "10.0\n",
            "20\n",
            "20.0\n",
            "23\n",
            "23.56\n"
          ],
          "name": "stdout"
        }
      ]
    },
    {
      "cell_type": "markdown",
      "metadata": {
        "id": "3SQpXHpgG5tN",
        "colab_type": "text"
      },
      "source": [
        "### Task1: \n",
        "#### WAP to display your infomation like (full name, branch, university name, age, 12th %, hobbies). Store each value into some meaningful variable.  the ouptput of the program should look like"
      ]
    },
    {
      "cell_type": "code",
      "metadata": {
        "id": "MhXiJm_ajJJr",
        "colab_type": "code",
        "colab": {}
      },
      "source": [
        ""
      ],
      "execution_count": 0,
      "outputs": []
    },
    {
      "cell_type": "code",
      "metadata": {
        "trusted": false,
        "id": "NcmrqUkXG5tQ",
        "colab_type": "code",
        "outputId": "ef9634a5-087d-4e23-f43b-d6d7d2f082eb",
        "colab": {
          "base_uri": "https://localhost:8080/",
          "height": 218
        }
      },
      "source": [
        "\n",
        "full_name=input(\"Enter your full name: \")\n",
        "branch=input(\"Enter your branch: \")\n",
        "university=input(\"Enter your university: \")\n",
        "age=input(\"Enter your age: \")\n",
        "twelth_per=input(\"Enter your 12%: \")\n",
        "hobbies=input(\"Enter your hobbies: \")\n",
        "print(full_name)\n",
        "print(branch)\n",
        "print(university)\n",
        "print(age)\n",
        "print(twelth_per)\n",
        "print(hobbies)"
      ],
      "execution_count": 7,
      "outputs": [
        {
          "output_type": "stream",
          "text": [
            "Enter your full name: ritik dixit\n",
            "Enter your branch: cse\n",
            "Enter your university: rgpv\n",
            "Enter your age: 19\n",
            "Enter your 12%: 85\n",
            "Enter your hobbies: playing cricket\n",
            "ritik dixit\n",
            "cse\n",
            "rgpv\n",
            "19\n",
            "85\n",
            "playing cricket\n"
          ],
          "name": "stdout"
        }
      ]
    },
    {
      "cell_type": "markdown",
      "metadata": {
        "id": "aUn64sgNG5tU",
        "colab_type": "text"
      },
      "source": [
        "### Commmonly used functions \n",
        "- round(n)\n",
        "- format(n, '0.2f')\n",
        "- format(n,',') # put a comma on thousand place\n",
        "- format(n,'b') # print binary of the number, 'o', 'x'\n",
        "\n",
        "- eval(expression)\n",
        "- chr(n)\n",
        "- ord(character)\n",
        "- bin(n), oct(n), hex(n)\n",
        "\n",
        "- #### function on string/character data\n",
        "- isdigit()\n",
        "- isalpha()\n",
        "- isspace()\n",
        "- numeric()\n",
        "- ljust(width)\n",
        "- rjust(width)\n",
        "- cjust(width)"
      ]
    },
    {
      "cell_type": "code",
      "metadata": {
        "scrolled": true,
        "trusted": true,
        "id": "nkRXM4BJG5tV",
        "colab_type": "code",
        "outputId": "ec81cfaa-fd7d-42f1-e62b-644715ac5fa4",
        "colab": {
          "base_uri": "https://localhost:8080/",
          "height": 67
        }
      },
      "source": [
        "# Python3 program to demonstarte \n",
        "# the str.format() method \n",
        "  \n",
        "# using format option in a simple string \n",
        "print (\"{}, A computer science portal for acropolis.\"\n",
        "                        .format(\"acropolis\")) \n",
        "  \n",
        "# using format option for a \n",
        "# value stored in a variable \n",
        "str = \"This article is written in {}\"\n",
        "print (str.format(\"Python\")) \n",
        "  \n",
        "# formatting a string using a numeric constant \n",
        "print (\"Hello, I am {} years old !\".format(20))  "
      ],
      "execution_count": 8,
      "outputs": [
        {
          "output_type": "stream",
          "text": [
            "acropolis, A computer science portal for acropolis.\n",
            "This article is written in Python\n",
            "Hello, I am 20 years old !\n"
          ],
          "name": "stdout"
        }
      ]
    },
    {
      "cell_type": "code",
      "metadata": {
        "trusted": false,
        "id": "m50gn_tsG5tb",
        "colab_type": "code",
        "outputId": "b616c2e5-0f77-48cd-b1ad-23eb0ef6e9ba",
        "colab": {
          "base_uri": "https://localhost:8080/",
          "height": 50
        }
      },
      "source": [
        "# Characters and their ASCII value\n",
        "\n",
        "x=68\n",
        "# print character corresponding to x \n",
        "print(chr(x))\n",
        "char='D'\n",
        "# print number corresponding to char\n",
        "print(ord(char))"
      ],
      "execution_count": 9,
      "outputs": [
        {
          "output_type": "stream",
          "text": [
            "D\n",
            "68\n"
          ],
          "name": "stdout"
        }
      ]
    },
    {
      "cell_type": "code",
      "metadata": {
        "trusted": true,
        "id": "b0mbEsRfG5tg",
        "colab_type": "code",
        "outputId": "269ef73a-1c43-4f9a-a421-816c03b3fa1a",
        "colab": {
          "base_uri": "https://localhost:8080/",
          "height": 34
        }
      },
      "source": [
        "# write code to print your name 10 times\n",
        "print('ACROPOLIS'*10)"
      ],
      "execution_count": 10,
      "outputs": [
        {
          "output_type": "stream",
          "text": [
            "ACROPOLISACROPOLISACROPOLISACROPOLISACROPOLISACROPOLISACROPOLISACROPOLISACROPOLISACROPOLIS\n"
          ],
          "name": "stdout"
        }
      ]
    },
    {
      "cell_type": "code",
      "metadata": {
        "trusted": true,
        "id": "HQhqPPfaG5tl",
        "colab_type": "code",
        "outputId": "5f7c9119-3f7c-41fe-ffb1-36ca416795a2",
        "colab": {
          "base_uri": "https://localhost:8080/",
          "height": 202
        }
      },
      "source": [
        "for i in range(5):\n",
        "    print(\"*\"*i)\n",
        "\n",
        "# new pattern program\n",
        "print(\"\\n\")\n",
        "for i in range(4,0,-1):\n",
        "  print(\"*\"*i)    "
      ],
      "execution_count": 11,
      "outputs": [
        {
          "output_type": "stream",
          "text": [
            "\n",
            "*\n",
            "**\n",
            "***\n",
            "****\n",
            "\n",
            "\n",
            "****\n",
            "***\n",
            "**\n",
            "*\n"
          ],
          "name": "stdout"
        }
      ]
    },
    {
      "cell_type": "code",
      "metadata": {
        "id": "3-9RKU1psovu",
        "colab_type": "code",
        "outputId": "c6e31219-77ce-446c-d077-331612b23088",
        "colab": {
          "base_uri": "https://localhost:8080/",
          "height": 101
        }
      },
      "source": [
        "for i in range(1,6):\n",
        "  print(\" \"*(6-i),\"*\"*i) "
      ],
      "execution_count": 12,
      "outputs": [
        {
          "output_type": "stream",
          "text": [
            "      *\n",
            "     **\n",
            "    ***\n",
            "   ****\n",
            "  *****\n"
          ],
          "name": "stdout"
        }
      ]
    },
    {
      "cell_type": "code",
      "metadata": {
        "trusted": true,
        "id": "v5QAgvn8G5tp",
        "colab_type": "code",
        "outputId": "13abd51f-608f-47e8-cfe3-4c702f312a27",
        "colab": {
          "base_uri": "https://localhost:8080/",
          "height": 34
        }
      },
      "source": [
        "# use seperator and end with specific symbol\n",
        "a, b, c = 10, 20, 30\n",
        "print(a,b,c,sep=':',end=',')"
      ],
      "execution_count": 13,
      "outputs": [
        {
          "output_type": "stream",
          "text": [
            "10:20:30,"
          ],
          "name": "stdout"
        }
      ]
    },
    {
      "cell_type": "code",
      "metadata": {
        "trusted": true,
        "id": "IxLqu9XZG5tt",
        "colab_type": "code",
        "outputId": "59ed5868-a74c-4c60-8938-90bddc5211fc",
        "colab": {
          "base_uri": "https://localhost:8080/",
          "height": 84
        }
      },
      "source": [
        "for i in range(1,5):\n",
        "    print(\" \"*(5-i),\"*\"*i)"
      ],
      "execution_count": 14,
      "outputs": [
        {
          "output_type": "stream",
          "text": [
            "     *\n",
            "    **\n",
            "   ***\n",
            "  ****\n"
          ],
          "name": "stdout"
        }
      ]
    },
    {
      "cell_type": "markdown",
      "metadata": {
        "id": "p29PsNILhUii",
        "colab_type": "text"
      },
      "source": [
        ""
      ]
    },
    {
      "cell_type": "code",
      "metadata": {
        "trusted": false,
        "id": "GFIBWQUtG5tx",
        "colab_type": "code",
        "outputId": "5d8d2517-f956-485b-fbe2-f099d30d3d95",
        "colab": {
          "base_uri": "https://localhost:8080/",
          "height": 34
        }
      },
      "source": [
        "# unpack characters\n",
        "word = 'PYTHONG'\n",
        "a,b,c,d,e,f,g = word\n",
        "print(a,b,c,d,e,f,g)"
      ],
      "execution_count": 15,
      "outputs": [
        {
          "output_type": "stream",
          "text": [
            "P Y T H O N G\n"
          ],
          "name": "stdout"
        }
      ]
    },
    {
      "cell_type": "markdown",
      "metadata": {
        "id": "XOxjxinfG5t1",
        "colab_type": "text"
      },
      "source": [
        "### Format output"
      ]
    },
    {
      "cell_type": "code",
      "metadata": {
        "colab_type": "code",
        "id": "EJWEn5P4cfOd",
        "trusted": true,
        "outputId": "2fb10e05-ca6d-4d1d-f687-b12fdedb1f07",
        "colab": {
          "base_uri": "https://localhost:8080/",
          "height": 34
        }
      },
      "source": [
        "x = 5 \n",
        "y = 10\n",
        "print('The value of x is {} and y is {}'.format(x,y))"
      ],
      "execution_count": 0,
      "outputs": [
        {
          "output_type": "stream",
          "text": [
            "The value of x is 5 and y is 10\n"
          ],
          "name": "stdout"
        }
      ]
    },
    {
      "cell_type": "code",
      "metadata": {
        "scrolled": true,
        "trusted": false,
        "id": "rohJ0RmQG5t6",
        "colab_type": "code",
        "outputId": "4002f3af-11f3-4492-c2ac-9306fe17689a",
        "colab": {
          "base_uri": "https://localhost:8080/",
          "height": 34
        }
      },
      "source": [
        "print('I like {0} and {1}'.format('ice cream','chocolate'))"
      ],
      "execution_count": 0,
      "outputs": [
        {
          "output_type": "stream",
          "text": [
            "I like ice cream and chocolate\n"
          ],
          "name": "stdout"
        }
      ]
    },
    {
      "cell_type": "code",
      "metadata": {
        "scrolled": true,
        "trusted": false,
        "id": "ePTsWKD2G5t-",
        "colab_type": "code",
        "outputId": "1fa17fd6-b005-45b0-b429-227ac027435f",
        "colab": {
          "base_uri": "https://localhost:8080/",
          "height": 34
        }
      },
      "source": [
        "print('I like {1} and {0}'.format('ice cream','chocolate'))"
      ],
      "execution_count": 0,
      "outputs": [
        {
          "output_type": "stream",
          "text": [
            "I like chocolate and ice cream\n"
          ],
          "name": "stdout"
        }
      ]
    },
    {
      "cell_type": "code",
      "metadata": {
        "scrolled": true,
        "trusted": false,
        "id": "MHagJ4n_G5uE",
        "colab_type": "code",
        "outputId": "eec1d715-3e0f-45bf-924d-c49622e8274d",
        "colab": {
          "base_uri": "https://localhost:8080/",
          "height": 34
        }
      },
      "source": [
        "print('Hello {name}, {greeting}'.format(greeting = 'Good morning', name = 'Sachin !'))"
      ],
      "execution_count": 0,
      "outputs": [
        {
          "output_type": "stream",
          "text": [
            "Hello Sachin !, Good morning\n"
          ],
          "name": "stdout"
        }
      ]
    },
    {
      "cell_type": "markdown",
      "metadata": {
        "id": "liwzGLgJG5uJ",
        "colab_type": "text"
      },
      "source": [
        "### Task2\n",
        "#### Raman likes tea but he has coffee. Riya likes coffee but has tea. Write a program in python so that both can enjoy what they like."
      ]
    },
    {
      "cell_type": "code",
      "metadata": {
        "trusted": false,
        "id": "KLT5upfKG5uK",
        "colab_type": "code",
        "outputId": "1787da17-2ca8-4ffe-ed81-8ebd7fb8d338",
        "colab": {
          "base_uri": "https://localhost:8080/",
          "height": 34
        }
      },
      "source": [
        "# write your code after this line\n",
        "raman=\"Coffe\"\n",
        "riya=\"Tea\"\n",
        "raman,riya=riya,raman\n",
        "print(f\"Raman likes {raman} and Riya likes {riya}\")"
      ],
      "execution_count": 16,
      "outputs": [
        {
          "output_type": "stream",
          "text": [
            "Raman likes Tea and Riya likes Coffe\n"
          ],
          "name": "stdout"
        }
      ]
    },
    {
      "cell_type": "markdown",
      "metadata": {
        "heading_collapsed": true,
        "id": "S2j-VmN9G5uN",
        "colab_type": "text"
      },
      "source": [
        "### Task3\n",
        "Write a program for following\n",
        "- Input: 'Python'\n",
        "- Output: 642"
      ]
    },
    {
      "cell_type": "code",
      "metadata": {
        "hidden": true,
        "trusted": true,
        "id": "VEgfNycFG5uO",
        "colab_type": "code",
        "outputId": "89408b34-71e0-4a02-94bb-6106285fcc87",
        "colab": {
          "base_uri": "https://localhost:8080/",
          "height": 34
        }
      },
      "source": [
        "e,f,g,h,i,j='Python'\n",
        "s=ord(e)+ord(f)+ord(g)+ord(h)+ord(i)+ord(j)\n",
        "print(s)"
      ],
      "execution_count": 17,
      "outputs": [
        {
          "output_type": "stream",
          "text": [
            "642\n"
          ],
          "name": "stdout"
        }
      ]
    },
    {
      "cell_type": "markdown",
      "metadata": {
        "id": "DjUR0ktSG5uR",
        "colab_type": "text"
      },
      "source": [
        "# Working with math, calendar, random, datetime"
      ]
    },
    {
      "cell_type": "code",
      "metadata": {
        "trusted": true,
        "id": "y8UbqGZ1G5uS",
        "colab_type": "code",
        "outputId": "e5dbba3a-de42-4863-df5e-4f06d5efdbfc",
        "colab": {
          "base_uri": "https://localhost:8080/",
          "height": 85
        }
      },
      "source": [
        "import math\n",
        "print(math.sqrt(9))\n",
        "print(math.floor(10.8))\n",
        "print (math.ceil(10.5))\n",
        "math.pi\n"
      ],
      "execution_count": 0,
      "outputs": [
        {
          "output_type": "stream",
          "text": [
            "3.0\n",
            "10\n",
            "11\n"
          ],
          "name": "stdout"
        },
        {
          "output_type": "execute_result",
          "data": {
            "text/plain": [
              "3.141592653589793"
            ]
          },
          "metadata": {
            "tags": []
          },
          "execution_count": 22
        }
      ]
    },
    {
      "cell_type": "code",
      "metadata": {
        "trusted": false,
        "id": "9Sofw03xG5uW",
        "colab_type": "code",
        "outputId": "4375e7ab-673a-4987-e22a-d5b0e7252272",
        "colab": {
          "base_uri": "https://localhost:8080/",
          "height": 50
        }
      },
      "source": [
        "import random\n",
        "x = random.random() # generate any random number between 0 and 1\n",
        "print(\"x = \", x)\n",
        "\n",
        "y = random.randint(5,20)# generate any random number between 5 and 20\n",
        "print(\"y = \", y)"
      ],
      "execution_count": 18,
      "outputs": [
        {
          "output_type": "stream",
          "text": [
            "x =  0.004943211643616108\n",
            "y =  16\n"
          ],
          "name": "stdout"
        }
      ]
    },
    {
      "cell_type": "code",
      "metadata": {
        "trusted": false,
        "id": "zJhrO4MyG5uZ",
        "colab_type": "code",
        "outputId": "1d61b377-afce-496b-d054-eb225658ad6d",
        "colab": {
          "base_uri": "https://localhost:8080/",
          "height": 84
        }
      },
      "source": [
        "import datetime\n",
        "\n",
        "date = datetime.datetime.now().date() # YYYY-MM-DD format\n",
        "year = datetime.datetime.now().year\n",
        "month = datetime.datetime.now().month\n",
        "day = datetime.datetime.now().day\n",
        "\n",
        "print(date)\n",
        "print(year)\n",
        "print(month)\n",
        "print(day)"
      ],
      "execution_count": 20,
      "outputs": [
        {
          "output_type": "stream",
          "text": [
            "2020-01-19\n",
            "2020\n",
            "1\n",
            "19\n"
          ],
          "name": "stdout"
        }
      ]
    },
    {
      "cell_type": "code",
      "metadata": {
        "scrolled": false,
        "trusted": true,
        "id": "cq9pMSf4G5uc",
        "colab_type": "code",
        "outputId": "8ae412f6-1133-42b7-f280-da4edb5a3976",
        "colab": {
          "base_uri": "https://localhost:8080/",
          "height": 185
        }
      },
      "source": [
        "import calendar\n",
        "\n",
        "year = int(input(\"Enter Year : \"))\n",
        "month = int(input(\"Enter the Month : \"))\n",
        "\n",
        "print(calendar.month(year, month))"
      ],
      "execution_count": 19,
      "outputs": [
        {
          "output_type": "stream",
          "text": [
            "Enter Year : 2019\n",
            "Enter the Month : 3\n",
            "     March 2019\n",
            "Mo Tu We Th Fr Sa Su\n",
            "             1  2  3\n",
            " 4  5  6  7  8  9 10\n",
            "11 12 13 14 15 16 17\n",
            "18 19 20 21 22 23 24\n",
            "25 26 27 28 29 30 31\n",
            "\n"
          ],
          "name": "stdout"
        }
      ]
    },
    {
      "cell_type": "code",
      "metadata": {
        "id": "-nTzI58dwwq-",
        "colab_type": "code",
        "colab": {}
      },
      "source": [
        ""
      ],
      "execution_count": 0,
      "outputs": []
    }
  ]
}